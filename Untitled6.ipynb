{
  "nbformat": 4,
  "nbformat_minor": 0,
  "metadata": {
    "colab": {
      "provenance": [],
      "authorship_tag": "ABX9TyMG6hBimyFgqEx6l0qhKCi0",
      "include_colab_link": true
    },
    "kernelspec": {
      "name": "python3",
      "display_name": "Python 3"
    },
    "language_info": {
      "name": "python"
    }
  },
  "cells": [
    {
      "cell_type": "markdown",
      "metadata": {
        "id": "view-in-github",
        "colab_type": "text"
      },
      "source": [
        "<a href=\"https://colab.research.google.com/github/AbdulrahmanB2004/Assignment-1/blob/main/Untitled6.ipynb\" target=\"_parent\"><img src=\"https://colab.research.google.com/assets/colab-badge.svg\" alt=\"Open In Colab\"/></a>"
      ]
    },
    {
      "cell_type": "code",
      "execution_count": null,
      "metadata": {
        "id": "Mds0xWVa0OSn"
      },
      "outputs": [],
      "source": [
        "# EBook.py\n",
        "class EBook:\n",
        "    \"\"\"Represents an e-book in the store with details like title, author, publication date, genre, and price.\"\"\"\n",
        "    def __init__(self, title, author, publication_date, genre, price):\n",
        "        \"\"\"Initialize an EBook instance.\"\"\"\n",
        "        self.__title = title\n",
        "        self.__author = author\n",
        "        self.__publication_date = publication_date\n",
        "        self.__genre = genre\n",
        "        self.__price = price\n",
        "\n",
        "    def get_price(self):\n",
        "        \"\"\"Return the price of the e-book.\"\"\"\n",
        "        return self.__price\n",
        "\n",
        "    def __str__(self):\n",
        "        \"\"\"Return a string representation of the EBook.\"\"\"\n",
        "        return f\"EBook(title={self.__title}, author={self.__author}, price={self.__price})\"\n"
      ]
    },
    {
      "cell_type": "code",
      "source": [
        "# Customer.py\n",
        "class Customer:\n",
        "    \"\"\"Represents a customer with name, contact info, account ID, and loyalty program status.\"\"\"\n",
        "\n",
        "    def __init__(self, name, contact_info, account_id, loyalty_program=False):\n",
        "        \"\"\"Initialize a Customer instance.\"\"\"\n",
        "        self.__name = name\n",
        "        self.__contact_info = contact_info\n",
        "        self.__account_id = account_id\n",
        "        self.__loyalty_program = loyalty_program\n",
        "\n",
        "    def is_loyal(self):\n",
        "        \"\"\"Return whether the customer is part of the loyalty program.\"\"\"\n",
        "        return self.__loyalty_program\n",
        "\n",
        "    def __str__(self):\n",
        "        \"\"\"Return a string representation of the Customer.\"\"\"\n",
        "        return f\"Customer(name={self.__name}, account_id={self.__account_id}, loyalty_program={self.__loyalty_program})\"\n"
      ],
      "metadata": {
        "id": "RHppqDoP1vjG"
      },
      "execution_count": null,
      "outputs": []
    },
    {
      "cell_type": "code",
      "source": [
        "# OrderItem.py\n",
        "class OrderItem:\n",
        "    \"\"\"Represents an item in an order or shopping cart with a reference to an e-book and quantity.\"\"\"\n",
        "\n",
        "    def __init__(self, ebook, quantity):\n",
        "        \"\"\"Initialize an OrderItem instance.\"\"\"\n",
        "        self.__ebook = ebook\n",
        "        self.__quantity = quantity\n",
        "\n",
        "    def get_total_price(self):\n",
        "        \"\"\"Calculate and return the total price of this order item based on quantity.\"\"\"\n",
        "        return self.__ebook.get_price() * self.__quantity\n",
        "\n",
        "    def __str__(self):\n",
        "        \"\"\"Return a string representation of the OrderItem.\"\"\"\n",
        "        return f\"OrderItem(ebook={self.__ebook}, quantity={self.__quantity})\"\n"
      ],
      "metadata": {
        "id": "6GQOccui2UX6"
      },
      "execution_count": null,
      "outputs": []
    },
    {
      "cell_type": "code",
      "source": [
        "# ShoppingCart.py\n",
        "class ShoppingCart:\n",
        "    \"\"\"Represents a shopping cart holding multiple order items.\"\"\"\n",
        "\n",
        "    def __init__(self):\n",
        "        \"\"\"Initialize a ShoppingCart instance.\"\"\"\n",
        "        self.__items = []\n",
        "\n",
        "    def add_item(self, ebook, quantity):\n",
        "        \"\"\"Add an order item to the shopping cart.\"\"\"\n",
        "        self.__items.append(OrderItem(ebook, quantity))\n",
        "\n",
        "    def remove_item(self, ebook):\n",
        "        \"\"\"Remove an order item from the shopping cart based on the e-book.\"\"\"\n",
        "        self.__items = [item for item in self.__items if item._OrderItem__ebook != ebook]\n",
        "\n",
        "    def calculate_total(self):\n",
        "        \"\"\"Calculate and return the total cost of items in the shopping cart.\"\"\"\n",
        "        return sum(item.get_total_price() for item in self.__items)\n",
        "\n",
        "    def get_items(self):\n",
        "        \"\"\"Return the list of items in the shopping cart.\"\"\"\n",
        "        return self.__items\n",
        "\n",
        "    def __str__(self):\n",
        "        \"\"\"Return a string representation of the ShoppingCart.\"\"\"\n",
        "        return f\"ShoppingCart(items={self.__items})\"\n"
      ],
      "metadata": {
        "id": "RM9NZdVJ2WzQ"
      },
      "execution_count": null,
      "outputs": []
    },
    {
      "cell_type": "code",
      "source": [
        "# Order.py\n",
        "from datetime import datetime\n",
        "\n",
        "class Order:\n",
        "    \"\"\"Represents an order with a customer, items, order date, total price, and VAT calculations.\"\"\"\n",
        "\n",
        "    VAT_RATE = 0.08  # Constant VAT rate of 8%\n",
        "\n",
        "    def __init__(self, customer, items):\n",
        "        \"\"\"Initialize an Order instance.\"\"\"\n",
        "        self.__order_date = datetime.now()\n",
        "        self.__customer = customer\n",
        "        self.__items = items\n",
        "        self.__total_price = self.calculate_total_price()\n",
        "\n",
        "    def calculate_total_price(self):\n",
        "        \"\"\"Calculate the total price of the order with discounts for loyalty and bulk purchases.\"\"\"\n",
        "        total = sum(item.get_total_price() for item in self.__items)\n",
        "        discount = 0\n",
        "        if self.__customer.is_loyal():\n",
        "            discount += total * 0.10  # 10% loyalty discount\n",
        "        if len(self.__items) >= 5:\n",
        "            discount += total * 0.20  # 20% bulk discount for 5+ items\n",
        "        return total - discount\n",
        "\n",
        "    def calculate_vat(self):\n",
        "        \"\"\"Calculate and return the VAT on the total price.\"\"\"\n",
        "        return self.__total_price * self.VAT_RATE\n",
        "\n",
        "    def get_total_with_vat(self):\n",
        "        \"\"\"Return the total price including VAT.\"\"\"\n",
        "        return self.__total_price + self.calculate_vat()\n",
        "\n",
        "    def __str__(self):\n",
        "        \"\"\"Return a string representation of the Order.\"\"\"\n",
        "        return (f\"Order(customer={self.__customer}, order_date={self.__order_date}, \"\n",
        "                f\"total_price={self.__total_price}, vat={self.calculate_vat()}, total_with_vat={self.get_total_with_vat()})\")\n"
      ],
      "metadata": {
        "id": "s_eLW8vN2Z-x"
      },
      "execution_count": null,
      "outputs": []
    },
    {
      "cell_type": "code",
      "source": [
        "# Invoice.py\n",
        "class Invoice:\n",
        "    \"\"\"Represents an invoice for an order, including VAT and final total.\"\"\"\n",
        "\n",
        "    def __init__(self, order):\n",
        "        \"\"\"Initialize an Invoice instance.\"\"\"\n",
        "        self.__order = order\n",
        "        self.__vat = order.calculate_vat()\n",
        "        self.__final_total = order.get_total_with_vat()\n",
        "\n",
        "    def __str__(self):\n",
        "        \"\"\"Return a string representation of the Invoice.\"\"\"\n",
        "        return (f\"Invoice(order={self.__order}, vat={self.__vat}, final_total={self.__final_total})\")\n"
      ],
      "metadata": {
        "id": "fo41tR3U2k-0"
      },
      "execution_count": null,
      "outputs": []
    },
    {
      "cell_type": "code",
      "source": [
        "# Inventory.py\n",
        "class Inventory:\n",
        "    \"\"\"Manages the inventory of e-books in the store.\"\"\"\n",
        "\n",
        "    def __init__(self):\n",
        "        \"\"\"Initialize an empty inventory.\"\"\"\n",
        "        self.__stock = {}\n",
        "\n",
        "    def add_stock(self, ebook, quantity):\n",
        "        \"\"\"Add a specified quantity of an e-book to the inventory.\"\"\"\n",
        "        if ebook in self.__stock:\n",
        "            self.__stock[ebook] += quantity\n",
        "        else:\n",
        "            self.__stock[ebook] = quantity\n",
        "\n",
        "    def remove_stock(self, ebook, quantity):\n",
        "        \"\"\"Remove a specified quantity of an e-book from the inventory.\"\"\"\n",
        "        if ebook in self.__stock and self.__stock[ebook] >= quantity:\n",
        "            self.__stock[ebook] -= quantity\n",
        "            if self.__stock[ebook] == 0:\n",
        "                del self.__stock[ebook]  # Remove from inventory if stock is zero\n",
        "        else:\n",
        "            raise ValueError(\"Insufficient stock or e-book not found in inventory.\")\n",
        "\n",
        "    def get_stock(self, ebook):\n",
        "        \"\"\"Get the current stock level of an e-book.\"\"\"\n",
        "        return self.__stock.get(ebook, 0)\n",
        "\n",
        "    def __str__(self):\n",
        "        \"\"\"Return a string representation of the Inventory.\"\"\"\n",
        "        return f\"Inventory(stock={self.__stock})\"\n"
      ],
      "metadata": {
        "id": "h9b4JVRiK_Oa"
      },
      "execution_count": null,
      "outputs": []
    },
    {
      "cell_type": "code",
      "source": [
        "# Review.py\n",
        "class Review:\n",
        "    \"\"\"Represents a review for an e-book, including a rating and comment from the customer.\"\"\"\n",
        "\n",
        "    def __init__(self, customer, ebook, rating, comment):\n",
        "        \"\"\"Initialize a Review instance.\"\"\"\n",
        "        if not (1 <= rating <= 5):\n",
        "            raise ValueError(\"Rating must be between 1 and 5.\")\n",
        "\n",
        "        self.__customer = customer\n",
        "        self.__ebook = ebook\n",
        "        self.__rating = rating\n",
        "        self.__comment = comment\n",
        "        self.__date = datetime.now()\n",
        "\n",
        "    def get_rating(self):\n",
        "        \"\"\"Return the rating given by the customer.\"\"\"\n",
        "        return self.__rating\n",
        "\n",
        "    def get_comment(self):\n",
        "        \"\"\"Return the comment given by the customer.\"\"\"\n",
        "        return self.__comment\n",
        "\n",
        "    def __str__(self):\n",
        "        \"\"\"Return a string representation of the Review.\"\"\"\n",
        "        return (f\"Review(customer={self.__customer}, ebook={self.__ebook}, rating={self.__rating}, \"\n",
        "                f\"comment={self.__comment}, date={self.__date})\")\n"
      ],
      "metadata": {
        "id": "9Xm7NRnDLCJl"
      },
      "execution_count": null,
      "outputs": []
    },
    {
      "cell_type": "code",
      "source": [
        "# test_ebookstore.py\n",
        "import unittest\n",
        "\n",
        "class TestEBookstore(unittest.TestCase):\n",
        "\n",
        "    def setUp(self):\n",
        "        \"\"\"Set up sample data for testing.\"\"\"\n",
        "        self.ebook1 = EBook(\"Python Programming\", \"John Doe\", \"2021-05-01\", \"Programming\", 30.00)\n",
        "        self.ebook2 = EBook(\"Data Science 101\", \"Jane Smith\", \"2020-09-15\", \"Data Science\", 45.00)\n",
        "        self.customer = Customer(\"Alice Brown\", \"alice@example.com\", \"CUST001\", loyalty_program=True)\n",
        "        self.cart = ShoppingCart()\n",
        "\n",
        "    def test_add_ebook(self):\n",
        "        \"\"\"Test adding an e-book to the system.\"\"\"\n",
        "        self.assertEqual(self.ebook1.get_price(), 30.00)\n",
        "        self.assertEqual(self.ebook2.get_price(), 45.00)\n",
        "\n",
        "    def test_modify_ebook(self):\n",
        "        \"\"\"Test modifying the price of an e-book.\"\"\"\n",
        "        self.ebook1._EBook__price = 35.00\n",
        "        self.assertEqual(self.ebook1.get_price(), 35.00)\n",
        "\n",
        "    def test_add_customer(self):\n",
        "        \"\"\"Test adding a customer.\"\"\"\n",
        "        self.assertEqual(self.customer.is_loyal(), True)\n",
        "\n",
        "    def test_add_to_cart(self):\n",
        "        \"\"\"Test adding e-books to the shopping cart.\"\"\"\n",
        "        self.cart.add_item(self.ebook1, 2)\n",
        "        self.cart.add_item(self.ebook2, 1)\n",
        "        self.assertEqual(len(self.cart.get_items()), 2)\n",
        "        self.assertEqual(self.cart.calculate_total(), 105.00)\n",
        "\n",
        "    def test_loyalty_discount(self):\n",
        "        \"\"\"Test applying loyalty discount for loyalty program members.\"\"\"\n",
        "        self.cart.add_item(self.ebook1, 3)\n",
        "        order = Order(self.customer, self.cart.get_items())\n",
        "        self.assertAlmostEqual(order.calculate_total_price(), 81.00)\n",
        "\n",
        "    def test_invoice_generation(self):\n",
        "        \"\"\"Test generating an invoice with discounts and VAT.\"\"\"\n",
        "        self.cart.add_item(self.ebook1, 3)\n",
        "        order = Order(self.customer, self.cart.get_items())\n",
        "        invoice = Invoice(order)\n",
        "        expected_total_with_vat = order.get_total_with_vat()\n",
        "        self.assertAlmostEqual(invoice._Invoice__final_total, expected_total_with_vat)\n",
        "\n",
        "def test_inventory(self):\n",
        "    \"\"\"Test adding and removing stock from inventory.\"\"\"\n",
        "    inventory = Inventory()\n",
        "    inventory.add_stock(self.ebook1, 10)\n",
        "    self.assertEqual(inventory.get_stock(self.ebook1), 10)\n",
        "\n",
        "    inventory.remove_stock(self.ebook1, 5)\n",
        "    self.assertEqual(inventory.get_stock(self.ebook1), 5)\n",
        "\n",
        "    with self.assertRaises(ValueError):\n",
        "        inventory.remove_stock(self.ebook1, 10)  # Trying to remove more than available\n",
        "\n",
        "def test_review(self):\n",
        "    \"\"\"Test creating a review and accessing rating and comment.\"\"\"\n",
        "    review = Review(self.customer, self.ebook1, 5, \"Great e-book on Python programming.\")\n",
        "    self.assertEqual(review.get_rating(), 5)\n",
        "    self.assertEqual(review.get_comment(), \"Great e-book on Python programming.\")\n",
        "\n",
        "# Run the tests\n",
        "unittest.main(argv=[''], exit=False)\n"
      ],
      "metadata": {
        "colab": {
          "base_uri": "https://localhost:8080/"
        },
        "id": "u2Rnkxdx1SRN",
        "outputId": "952fc5fd-f084-4a74-ab13-262032d2d8cb"
      },
      "execution_count": null,
      "outputs": [
        {
          "output_type": "stream",
          "name": "stderr",
          "text": [
            "......\n",
            "----------------------------------------------------------------------\n",
            "Ran 6 tests in 0.042s\n",
            "\n",
            "OK\n"
          ]
        },
        {
          "output_type": "execute_result",
          "data": {
            "text/plain": [
              "<unittest.main.TestProgram at 0x7948eb57cca0>"
            ]
          },
          "metadata": {},
          "execution_count": 12
        }
      ]
    }
  ]
}